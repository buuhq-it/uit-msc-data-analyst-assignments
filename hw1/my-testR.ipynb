{
 "cells": [
  {
   "cell_type": "code",
   "execution_count": null,
   "id": "fe978f6d",
   "metadata": {
    "vscode": {
     "languageId": "r"
    }
   },
   "outputs": [
    {
     "ename": "",
     "evalue": "",
     "output_type": "error",
     "traceback": [
      "\u001b[1;31mFailed to start the Kernel. \n",
      "\u001b[1;31mThe kernel 'R (ml-basic-r-python-env)' was not started as it is located in an insecure location 'c:\\ProgramData\\miniconda3\\envs\\ml-basic-r-python-env\\share\\jupyter\\kernels\\ir\\kernel.json'.  \n",
      "\u001b[1;31mClick <a href='https://aka.ms/JupyterTrustedKernelPaths'>here</a> for further details, optionally update the setting <a href='command:workbench.action.openSettings?[\"jupyter.kernels.trusted\"]'>jupyter.kernels.trusted</a> to trust the kernel."
     ]
    }
   ],
   "source": [
    "print(\"R kernel is working!\")"
   ]
  }
 ],
 "metadata": {
  "kernelspec": {
   "display_name": "R",
   "language": "R",
   "name": "ir"
  },
  "language_info": {
   "name": "R"
  }
 },
 "nbformat": 4,
 "nbformat_minor": 5
}
