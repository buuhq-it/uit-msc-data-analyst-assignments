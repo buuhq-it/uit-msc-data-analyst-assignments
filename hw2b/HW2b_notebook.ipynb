{
 "cells": [
  {
   "cell_type": "code",
   "execution_count": 12,
   "id": "be970fb6",
   "metadata": {},
   "outputs": [
    {
     "name": "stdout",
     "output_type": "stream",
     "text": [
      "Thông số đã học (theta):\n",
      "θ0 (bias)      = 5.8270\n",
      "θ1 (Area)      = 0.5055\n",
      "θ2 (Bedrooms)  = 0.4899\n",
      "θ3 (Floors)    = 0.6772\n",
      "J cuối cùng     = 1.8285\n"
     ]
    }
   ],
   "source": [
    "import pandas as pd\n",
    "import numpy as np\n",
    "\n",
    "# 1) Đọc dữ liệu\n",
    "CSV_PATH = r\"C:\\Users\\ducli\\Downloads\\archive (1)\\vietnam_housing_dataset.csv\"\n",
    "df = pd.read_csv(CSV_PATH)\n",
    "\n",
    "# 2) Giữ lại 3 đặc trưng + đích\n",
    "features = [\"Area\", \"Bedrooms\", \"Floors\"]\n",
    "target   = \"Price\"\n",
    "data = df[features + [target]].dropna()        # bỏ hàng có NaN\n",
    "\n",
    "# 3) Chuẩn hoá đặc trưng (z‑score) cho tốc độ hội tụ\n",
    "X_raw = data[features].values\n",
    "y     = data[target].values.reshape(-1, 1)\n",
    "\n",
    "mu    = X_raw.mean(axis=0)\n",
    "sigma = X_raw.std(axis=0)\n",
    "Xn    = (X_raw - mu) / sigma                  # X chuẩn hoá\n",
    "m     = Xn.shape[0]\n",
    "\n",
    "# 4) Thêm cột bias\n",
    "X = np.hstack([np.ones((m, 1)), Xn])          # (m × 4)\n",
    "theta = np.zeros((X.shape[1], 1))             # khởi tạo 0\n",
    "\n",
    "# 5) Các hàm tiện ích\n",
    "def compute_cost(X, y, theta):\n",
    "    m = len(y)\n",
    "    return (1/(2*m)) * np.sum((X @ theta - y) ** 2)\n",
    "\n",
    "def gradient_descent(X, y, theta, alpha=0.01, iters=1000):\n",
    "    cost_history = []\n",
    "    m = len(y)\n",
    "    for _ in range(iters):\n",
    "        error  = X @ theta - y\n",
    "        grad   = (1/m) * (X.T @ error)\n",
    "        theta -= alpha * grad\n",
    "        cost_history.append(compute_cost(X, y, theta))\n",
    "    return theta, cost_history\n",
    "\n",
    "# 6) Huấn luyện\n",
    "theta_opt, J_hist = gradient_descent(X, y, theta,\n",
    "                                     alpha     = 0.01,\n",
    "                                     iters     = 1000)\n",
    "\n",
    "# 7) In kết quả\n",
    "print(\"Thông số đã học (theta):\")\n",
    "print(f\"θ0 (bias)      = {theta_opt[0,0]:.4f}\")\n",
    "print(f\"θ1 (Area)      = {theta_opt[1,0]:.4f}\")\n",
    "print(f\"θ2 (Bedrooms)  = {theta_opt[2,0]:.4f}\")\n",
    "print(f\"θ3 (Floors)    = {theta_opt[3,0]:.4f}\")\n",
    "print(f\"J cuối cùng     = {J_hist[-1]:.4f}\")\n"
   ]
  },
  {
   "cell_type": "code",
   "execution_count": 13,
   "id": "e26a418e",
   "metadata": {},
   "outputs": [
    {
     "name": "stdout",
     "output_type": "stream",
     "text": [
      "R² (in‑sample) = 0.225\n"
     ]
    }
   ],
   "source": [
    "from sklearn.metrics import r2_score    \n",
    "\n",
    "y_pred = X @ theta_opt\n",
    "r2 = r2_score(y, y_pred)     \n",
    "print(f\"R² (in‑sample) = {r2:.3f}\")"
   ]
  },
  {
   "cell_type": "code",
   "execution_count": null,
   "id": "01e7dd80",
   "metadata": {},
   "outputs": [],
   "source": []
  }
 ],
 "metadata": {
  "kernelspec": {
   "display_name": "crawler",
   "language": "python",
   "name": "python3"
  },
  "language_info": {
   "codemirror_mode": {
    "name": "ipython",
    "version": 3
   },
   "file_extension": ".py",
   "mimetype": "text/x-python",
   "name": "python",
   "nbconvert_exporter": "python",
   "pygments_lexer": "ipython3",
   "version": "3.10.16"
  }
 },
 "nbformat": 4,
 "nbformat_minor": 5
}
